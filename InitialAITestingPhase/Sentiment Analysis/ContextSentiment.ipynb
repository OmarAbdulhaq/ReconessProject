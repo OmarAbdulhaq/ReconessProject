{
 "cells": [
  {
   "cell_type": "code",
   "execution_count": 35,
   "metadata": {},
   "outputs": [],
   "source": [
    "import speech_recognition as sr\n",
    "from deepmultilingualpunctuation import PunctuationModel\n",
    "from nltk.tokenize import sent_tokenize\n",
    "from transformers import pipeline"
   ]
  },
  {
   "cell_type": "code",
   "execution_count": 39,
   "metadata": {},
   "outputs": [
    {
     "name": "stderr",
     "output_type": "stream",
     "text": [
      "C:\\Users\\dell\\AppData\\Local\\Packages\\PythonSoftwareFoundation.Python.3.10_qbz5n2kfra8p0\\LocalCache\\local-packages\\Python310\\site-packages\\transformers\\pipelines\\token_classification.py:169: UserWarning: `grouped_entities` is deprecated and will be removed in version v5.0.0, defaulted to `aggregation_strategy=\"none\"` instead.\n",
      "  warnings.warn(\n",
      "config.json: 100%|██████████| 768/768 [00:00<00:00, 384kB/s]\n",
      "C:\\Users\\dell\\AppData\\Local\\Packages\\PythonSoftwareFoundation.Python.3.10_qbz5n2kfra8p0\\LocalCache\\local-packages\\Python310\\site-packages\\huggingface_hub\\file_download.py:149: UserWarning: `huggingface_hub` cache-system uses symlinks by default to efficiently store duplicated files but your machine does not support them in C:\\Users\\dell\\.cache\\huggingface\\hub\\models--bhadresh-savani--distilbert-base-uncased-emotion. Caching files will still work but in a degraded version that might require more space on your disk. This warning can be disabled by setting the `HF_HUB_DISABLE_SYMLINKS_WARNING` environment variable. For more details, see https://huggingface.co/docs/huggingface_hub/how-to-cache#limitations.\n",
      "To support symlinks on Windows, you either need to activate Developer Mode or to run Python as an administrator. In order to see activate developer mode, see this article: https://docs.microsoft.com/en-us/windows/apps/get-started/enable-your-device-for-development\n",
      "  warnings.warn(message)\n",
      "pytorch_model.bin: 100%|██████████| 268M/268M [00:20<00:00, 13.2MB/s] \n",
      "tokenizer_config.json: 100%|██████████| 291/291 [00:00<?, ?B/s] \n",
      "vocab.txt: 100%|██████████| 232k/232k [00:00<00:00, 816kB/s]\n",
      "special_tokens_map.json: 100%|██████████| 112/112 [00:00<00:00, 112kB/s]\n"
     ]
    }
   ],
   "source": [
    "r = sr.Recognizer()\n",
    "punctuator = PunctuationModel()\n",
    "classifier = pipeline(\"text-classification\", model=\"bhadresh-savani/distilbert-base-uncased-emotion\")"
   ]
  },
  {
   "cell_type": "code",
   "execution_count": 30,
   "metadata": {},
   "outputs": [],
   "source": [
    "def transcribe_audio(path):\n",
    "    r = sr.Recognizer()\n",
    "    \n",
    "    with sr.AudioFile(path) as source:\n",
    "        audio = r.record(source)\n",
    "        \n",
    "        try:\n",
    "            text = r.recognize_google(audio)\n",
    "            return text\n",
    "        except sr.UnknownValueError:\n",
    "            print(\"Google Speech Recognition could not understand the audio\")\n",
    "            return None\n",
    "        except sr.RequestError as e:\n",
    "            print(f\"Could not request results from Google Speech Recognition service; {e}\")\n",
    "            return None\n",
    "\n",
    "def punctuate_text(text):\n",
    "    punctuated_text = punctuator.restore_punctuation(text)\n",
    "    return punctuated_text\n",
    "\n",
    "def divide_to_sentences(text):\n",
    "    divided = sent_tokenize(text)\n",
    "    return divided\n"
   ]
  },
  {
   "cell_type": "code",
   "execution_count": 27,
   "metadata": {},
   "outputs": [
    {
     "data": {
      "text/plain": [
       "\"are you swallowing them whole you're eating them so fast are they even touching your tongue why aren't you having any Angela oh I ate so many already when no one's looking yeah right my baby's dieting she wants to fit into a special child-sized wedding gown for a big day it's one of those exist from my pageant I was Atlantic bride when I was 10 probably heard of it is made of my social club please no no no no no no no no no no\""
      ]
     },
     "execution_count": 27,
     "metadata": {},
     "output_type": "execute_result"
    }
   ],
   "source": [
    "data = transcribe_audio(\"../SER/output/TobyReturns.wav\")\n",
    "data"
   ]
  },
  {
   "cell_type": "code",
   "execution_count": 31,
   "metadata": {},
   "outputs": [
    {
     "data": {
      "text/plain": [
       "\"are you swallowing them whole? you're eating them so fast. are they even touching your tongue? why aren't you having any? Angela, oh, I ate so many already when no one's looking. yeah right, my baby's dieting. she wants to fit into a special child-sized wedding gown for a big day. it's one of those exist from my pageant. I was Atlantic bride when I was 10, probably heard of it is made of my social club. please, no, no, no, no, no, no, no, no, no, no.\""
      ]
     },
     "execution_count": 31,
     "metadata": {},
     "output_type": "execute_result"
    }
   ],
   "source": [
    "data = punctuate_text(data)\n",
    "data"
   ]
  },
  {
   "cell_type": "code",
   "execution_count": 33,
   "metadata": {},
   "outputs": [
    {
     "data": {
      "text/plain": [
       "['are you swallowing them whole?',\n",
       " \"you're eating them so fast.\",\n",
       " 'are they even touching your tongue?',\n",
       " \"why aren't you having any?\",\n",
       " \"Angela, oh, I ate so many already when no one's looking.\",\n",
       " \"yeah right, my baby's dieting.\",\n",
       " 'she wants to fit into a special child-sized wedding gown for a big day.',\n",
       " \"it's one of those exist from my pageant.\",\n",
       " 'I was Atlantic bride when I was 10, probably heard of it is made of my social club.',\n",
       " 'please, no, no, no, no, no, no, no, no, no, no.']"
      ]
     },
     "execution_count": 33,
     "metadata": {},
     "output_type": "execute_result"
    }
   ],
   "source": [
    "data = divide_to_sentences(data)\n",
    "data"
   ]
  },
  {
   "cell_type": "code",
   "execution_count": 40,
   "metadata": {},
   "outputs": [],
   "source": [
    "results = classifier(data)"
   ]
  },
  {
   "cell_type": "code",
   "execution_count": 41,
   "metadata": {},
   "outputs": [
    {
     "name": "stdout",
     "output_type": "stream",
     "text": [
      "Sentence: are you swallowing them whole?\n",
      "Sentiment: anger, Confidence: 0.7477536797523499\n",
      "\n",
      "Sentence: you're eating them so fast.\n",
      "Sentiment: anger, Confidence: 0.6845895648002625\n",
      "\n",
      "Sentence: are they even touching your tongue?\n",
      "Sentiment: fear, Confidence: 0.6147907376289368\n",
      "\n",
      "Sentence: why aren't you having any?\n",
      "Sentiment: anger, Confidence: 0.8691768050193787\n",
      "\n",
      "Sentence: Angela, oh, I ate so many already when no one's looking.\n",
      "Sentiment: anger, Confidence: 0.6175829172134399\n",
      "\n",
      "Sentence: yeah right, my baby's dieting.\n",
      "Sentiment: joy, Confidence: 0.9730597734451294\n",
      "\n",
      "Sentence: she wants to fit into a special child-sized wedding gown for a big day.\n",
      "Sentiment: joy, Confidence: 0.9983490705490112\n",
      "\n",
      "Sentence: it's one of those exist from my pageant.\n",
      "Sentiment: joy, Confidence: 0.826774537563324\n",
      "\n",
      "Sentence: I was Atlantic bride when I was 10, probably heard of it is made of my social club.\n",
      "Sentiment: anger, Confidence: 0.7069690227508545\n",
      "\n",
      "Sentence: please, no, no, no, no, no, no, no, no, no, no.\n",
      "Sentiment: anger, Confidence: 0.8953853845596313\n",
      "\n"
     ]
    }
   ],
   "source": [
    "for sentence, result in zip(data, results):\n",
    "    print(f\"Sentence: {sentence}\\nSentiment: {result['label']}, Confidence: {result['score']}\\n\")"
   ]
  },
  {
   "cell_type": "code",
   "execution_count": null,
   "metadata": {},
   "outputs": [],
   "source": []
  }
 ],
 "metadata": {
  "kernelspec": {
   "display_name": "Python 3",
   "language": "python",
   "name": "python3"
  },
  "language_info": {
   "codemirror_mode": {
    "name": "ipython",
    "version": 3
   },
   "file_extension": ".py",
   "mimetype": "text/x-python",
   "name": "python",
   "nbconvert_exporter": "python",
   "pygments_lexer": "ipython3",
   "version": "3.10.11"
  }
 },
 "nbformat": 4,
 "nbformat_minor": 2
}
