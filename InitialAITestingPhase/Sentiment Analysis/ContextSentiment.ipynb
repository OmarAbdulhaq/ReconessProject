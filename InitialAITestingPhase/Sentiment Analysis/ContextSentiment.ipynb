{
 "cells": [
  {
   "cell_type": "code",
   "execution_count": 42,
   "metadata": {},
   "outputs": [],
   "source": [
    "from transformers import pipeline\n",
    "import soundfile as sf\n",
    "from collections import Counter\n",
    "import soundfile as sf\n",
    "import torch\n",
    "import torchaudio\n",
    "from nltk.sentiment import SentimentIntensityAnalyzer\n",
    "from nltk.tokenize import sent_tokenize\n",
    "from deepmultilingualpunctuation import PunctuationModel\n",
    "from collections import Counter\n"
   ]
  },
  {
   "cell_type": "code",
   "execution_count": 43,
   "metadata": {},
   "outputs": [
    {
     "name": "stderr",
     "output_type": "stream",
     "text": [
      "C:\\Users\\dell\\AppData\\Local\\Packages\\PythonSoftwareFoundation.Python.3.10_qbz5n2kfra8p0\\LocalCache\\local-packages\\Python310\\site-packages\\transformers\\pipelines\\token_classification.py:169: UserWarning: `grouped_entities` is deprecated and will be removed in version v5.0.0, defaulted to `aggregation_strategy=\"none\"` instead.\n",
      "  warnings.warn(\n"
     ]
    }
   ],
   "source": [
    "asr_pipeline = pipeline(\"automatic-speech-recognition\", model=\"openai/whisper-small\")\n",
    "punctuator = PunctuationModel()\n",
    "sentiment_model = pipeline(\"text-classification\", model=\"bhadresh-savani/distilbert-base-uncased-emotion\")\n",
    "sia = SentimentIntensityAnalyzer()"
   ]
  },
  {
   "cell_type": "code",
   "execution_count": 44,
   "metadata": {},
   "outputs": [],
   "source": [
    "def transcribe_audio(audio_file_path):\n",
    "    speech, sample_rate = sf.read(audio_file_path, dtype=\"float32\")\n",
    "\n",
    "    if speech.ndim > 1:\n",
    "        speech = speech.mean(axis=1)\n",
    "\n",
    "    if sample_rate != 16000:\n",
    "        resampler = torchaudio.transforms.Resample(orig_freq=sample_rate, new_freq=16000)\n",
    "        speech = resampler(torch.tensor(speech)).numpy()\n",
    "\n",
    "    transcription = asr_pipeline(speech)\n",
    "    return transcription[\"text\"]\n",
    "\n",
    "def analyze_emotion(sentences):\n",
    "    results = sentiment_model(sentences)\n",
    "    return [{'label': normalize_emotion_label(result['label']), 'score': result['score']} for result in results]\n",
    "\n",
    "def normalize_emotion_label(label):\n",
    "    mapping = {\n",
    "        'joy': 'happy',\n",
    "        'anger': 'angry',\n",
    "        'sadness': 'sad',\n",
    "        'fear': 'others',\n",
    "        'love': 'happy',\n",
    "        'surprise': 'others',\n",
    "    }\n",
    "    return mapping.get(label, 'others')\n",
    "\n",
    "def process(audio_file):  \n",
    "    transcribed_text = transcribe_audio(audio_file)\n",
    "    if transcribed_text:\n",
    "        punctuated_text = punctuator.restore_punctuation(transcribed_text)\n",
    "        sentences = sent_tokenize(punctuated_text)\n",
    "        emotion_analysis = analyze_emotion(sentences)\n",
    "        emotions = [result['label'] for result in emotion_analysis]\n",
    "        emotion_counts = Counter(emotions)\n",
    "        return transcribed_text, punctuated_text, sentences, emotion_analysis, emotion_counts\n",
    "    else:\n",
    "        return {}"
   ]
  },
  {
   "cell_type": "code",
   "execution_count": 45,
   "metadata": {},
   "outputs": [
    {
     "name": "stdout",
     "output_type": "stream",
     "text": [
      " Are you swallowing them whole? You're eating them so fast, are they even touching your tongue? Yeah. Why aren't you having an angela? Oh, I ate so many already when no one was looking. Yeah, right. My baby's dieting. She wants to fit into a special child-sized wedding gown for her big day. Does one of those exist? It's from my pageant days. I was Miss Tiny Mid-Atlantic bride when I was 10. I was Miss Tiny Mid-Atlantic Bride when I was 10. Probably heard of it. Brownies, is that... pastry cubes made of sugar and fat? No, thank you. I'll stick with my jerky. So why'd you come in here? To socialize and inform. Ooh, brownies! I'm taking two so I can parcel them up and eat them at my leisure later on. Much healthier. You're taking two? Yeah, um, but one of them is for Tilly. Yeah! Why don't you send that to him in Costa Rica? Recon. Um, I'm just gonna hand it to him right now. Okay, weirdo. Why is that weird? She said she's gonna give it to him right now. She's probably going to, because they sit next to each other. Yeah, they used to. Toby works here again. Oh, can you imagine? Oh no, you don't know. I don't know. What? You should probably just meander back there. Take a look, see if he's back. Dare I? You know what I'm going to for all time's sake Great practical joke Jim got me go to the annex No god No god, please no no no No! Nooooooooooooooooooooooooooooooooooooooooooooooooooooooooooooooooooooooooooooooooooooooooooooooooooooooooooooooooooooooooooooooooooooooooooooooooooooooooooooooooooooooooooooooooooooooooooooooooooooooooooooooooooooooooooooooooooooooooooooooooooooooooooooooooooooooooooooooooooooooooooooooooooooooooooooooooooooooooooooooooooooooooooooooooooooooooooooooooooooooooooooooooooooooooooooooooooooooooooooooooooooooooooooooooooooooooooooooooooooooooooooooooooooooooooooooooooooooooooooooooooooooooooooooooooooooooooooooooooooooooooooooooooooooooooooooooooooooooooooooooooooooooooooooooooooooooooooooooooooooooooooooooooooooooooooooooooooooooooooooooooooooooooooooooooooooooooooooooooooooooooooooooooooooooooooooooooooooooooooooooooooooooooooooooooooooooooooooooooooooooooooooooooooooooooooooooooooooooooooooooooooooooooooooooooooooooooooooooooooooooooooooooooooooooooooooooooooooooooooooooooooooooooooooooooooooooooooooooooooooooooooooooooooooooooooooooooooooooooooooooooooooooooooooooooooooooooooooooooooooooooooooooooooooooooooooooooooooooooooooooooooooooooooooooooooooooooooooooooooooooooooooooooooooooooooooooooooooooooooooooooooooooooooooooooooooooooooooooooooooooooooooooooooooooooooooooooooooooooooooooooooooooooooooooooooooooooooooooooooooooooooooooooooooooooooooooooooooooooooooooooooooooooooooooooooooooooooooooooooooooooooooooooooooooooooooooooooooooooooooooooooooooooooooooooooooooooooooooooooooooooooooooooooooooooooooooooooooooooooooooooooooooooooooooooooooooooooooooooooooooooooooooooooooooooooooooooooooooooooooooooooooooooooooooooooooooooooooooooooooooooooooooooooooooooooooooooooooooooooooooooooooooooooooooooooooooooooooooooooooooooooooooooooooooooooooooooooooooooooooooooooooooooooooooooooooooooooooooooooooooooooooooooooooooooooooooooooooooooooooooooooooooooooo\n",
      "Are you swallowing them whole? You're eating them so fast. are they even touching your tongue? Yeah, Why aren't you having an angela? Oh, I ate so many already when no one was looking. Yeah right, My baby's dieting. She wants to fit into a special child-sized wedding gown for her big day. Does one of those exist? It's from my pageant days. I was Miss Tiny Mid-Atlantic bride when I was 10.. I was Miss Tiny Mid-Atlantic Bride when I was 10.. Probably heard of it. Brownies, is that? pastry cubes made of sugar and fat? No, thank you, I'll stick with my jerky. So why'd you come in here To socialize and inform? Ooh, brownies, I'm taking two so I can parcel them up and eat them at my leisure later on, Much healthier. You're taking two. Yeah, um, but one of them is for Tilly. Yeah, Why don't you send that to him in Costa Rica, Recon, Um, I'm just gonna hand it to him right now. Okay, weirdo, Why is that weird? She said she's gonna give it to him right now. She's probably going to because they sit next to each other. Yeah, they used to. Toby works here again. Oh, can you imagine? Oh, no, you don't know. I don't know What. You should probably just meander back there, Take a look, see if he's back, Dare I, You know what I'm going to. for all time's sake. Great practical joke, Jim got me go to the annex. No god, No, god, please, no, no, no, No, Nooooooooooooooooooooooooooooooooooooooooooooooooooooooooooooooooooooooooooooooooooooooooooooooooooooooooooooooooooooooooooooooooooooooooooooooooooooooooooooooooooooooooooooooooooooooooooooooooooooooooooooooooooooooooooooooooooooooooooooooooooooooooooooooooooooooooooooooooooooooooooooooooooooooooooooooooooooooooooooooooooooooooooooooooooooooooooooooooooooooooooooooooooooooooooooooooooooooooooooooooooooooooooooooooooooooooooooooooooooooooooooooooooooooooooooooooooooooooooooooooooooooooooooooooooooooooooooooooooooooooooooooooooooooooooooooooooooooooooooooooooooooooooooooooooooooooooooooooooooooooooooooooooooooooooooooooooooooooooooooooooooooooooooooooooooooooooooooooooooooooooooooooooooooooooooooooooooooooooooooooooooooooooooooooooooooooooooooooooooooooooooooooooooooooooooooooooooooooooooooooooooooooooooooooooooooooooooooooooooooooooooooooooooooooooooooooooooooooooooooooooooooooooooooooooooooooooooooooooooooooooooooooooooooooooooooooooooooooooooooooooooooooooooooooooooooooooooooooooooooooooooooooooooooooooooooooooooooooooooooooooooooooooooooooooooooooooooooooooooooooooooooooooooooooooooooooooooooooooooooooooooooooooooooooooooooooooooooooooooooooooooooooooooooooooooooooooooooooooooooooooooooooooooooooooooooooooooooooooooooooooooooooooooooooooooooooooooooooooooooooooooooooooooooooooooooooooooooooooooooooooooooooooooooooooooooooooooooooooooooooooooooooooooooooooooooooooooooooooooooooooooooooooooooooooooooooooooooooooooooooooooooooooooooooooooooooooooooooooooooooooooooooooooooooooooooooooooooooooooooooooooooooooooooooooooooooooooooooooooooooooooooooooooooooooooooooooooooooooooooooooooooooooooooooooooooooooooooooooooooooooooooooooooooooooooooooooooooooooooooooooooooooooooooooooooooooooooooooooooooooooooooooooooooooooooooooooooooooooooooooooooooooooooo.\n",
      "['Are you swallowing them whole?', \"You're eating them so fast.\", 'are they even touching your tongue?', \"Yeah, Why aren't you having an angela?\", 'Oh, I ate so many already when no one was looking.', \"Yeah right, My baby's dieting.\", 'She wants to fit into a special child-sized wedding gown for her big day.', 'Does one of those exist?', \"It's from my pageant days.\", 'I was Miss Tiny Mid-Atlantic bride when I was 10..', 'I was Miss Tiny Mid-Atlantic Bride when I was 10..', 'Probably heard of it.', 'Brownies, is that?', 'pastry cubes made of sugar and fat?', \"No, thank you, I'll stick with my jerky.\", \"So why'd you come in here To socialize and inform?\", \"Ooh, brownies, I'm taking two so I can parcel them up and eat them at my leisure later on, Much healthier.\", \"You're taking two.\", 'Yeah, um, but one of them is for Tilly.', \"Yeah, Why don't you send that to him in Costa Rica, Recon, Um, I'm just gonna hand it to him right now.\", 'Okay, weirdo, Why is that weird?', \"She said she's gonna give it to him right now.\", \"She's probably going to because they sit next to each other.\", 'Yeah, they used to.', 'Toby works here again.', 'Oh, can you imagine?', \"Oh, no, you don't know.\", \"I don't know What.\", \"You should probably just meander back there, Take a look, see if he's back, Dare I, You know what I'm going to.\", \"for all time's sake.\", 'Great practical joke, Jim got me go to the annex.', 'No god, No, god, please, no, no, no, No, Nooooooooooooooooooooooooooooooooooooooooooooooooooooooooooooooooooooooooooooooooooooooooooooooooooooooooooooooooooooooooooooooooooooooooooooooooooooooooooooooooooooooooooooooooooooooooooooooooooooooooooooooooooooooooooooooooooooooooooooooooooooooooooooooooooooooooooooooooooooooooooooooooooooooooooooooooooooooooooooooooooooooooooooooooooooooooooooooooooooooooooooooooooooooooooooooooooooooooooooooooooooooooooooooooooooooooooooooooooooooooooooooooooooooooooooooooooooooooooooooooooooooooooooooooooooooooooooooooooooooooooooooooooooooooooooooooooooooooooooooooooooooooooooooooooooooooooooooooooooooooooooooooooooooooooooooooooooooooooooooooooooooooooooooooooooooooooooooooooooooooooooooooooooooooooooooooooooooooooooooooooooooooooooooooooooooooooooooooooooooooooooooooooooooooooooooooooooooooooooooooooooooooooooooooooooooooooooooooooooooooooooooooooooooooooooooooooooooooooooooooooooooooooooooooooooooooooooooooooooooooooooooooooooooooooooooooooooooooooooooooooooooooooooooooooooooooooooooooooooooooooooooooooooooooooooooooooooooooooooooooooooooooooooooooooooooooooooooooooooooooooooooooooooooooooooooooooooooooooooooooooooooooooooooooooooooooooooooooooooooooooooooooooooooooooooooooooooooooooooooooooooooooooooooooooooooooooooooooooooooooooooooooooooooooooooooooooooooooooooooooooooooooooooooooooooooooooooooooooooooooooooooooooooooooooooooooooooooooooooooooooooooooooooooooooooooooooooooooooooooooooooooooooooooooooooooooooooooooooooooooooooooooooooooooooooooooooooooooooooooooooooooooooooooooooooooooooooooooooooooooooooooooooooooooooooooooooooooooooooooooooooooooooooooooooooooooooooooooooooooooooooooooooooooooooooooooooooooooooooooooooooooooooooooooooooooooooooooooooooooooooooooooooooooooooooooooooooooooooooooooooooooooooooooooooooooooooooooooooooooooooooooooooooo.']\n",
      "[{'label': 'angry', 'score': 0.7477536797523499}, {'label': 'angry', 'score': 0.6845895648002625}, {'label': 'others', 'score': 0.6147907376289368}, {'label': 'angry', 'score': 0.5314326882362366}, {'label': 'angry', 'score': 0.7365515828132629}, {'label': 'happy', 'score': 0.9730597734451294}, {'label': 'happy', 'score': 0.9983515739440918}, {'label': 'angry', 'score': 0.4468232989311218}, {'label': 'happy', 'score': 0.7020747661590576}, {'label': 'happy', 'score': 0.3855764865875244}, {'label': 'happy', 'score': 0.3855764865875244}, {'label': 'angry', 'score': 0.7112299203872681}, {'label': 'angry', 'score': 0.7757558822631836}, {'label': 'angry', 'score': 0.6892423629760742}, {'label': 'happy', 'score': 0.7931519150733948}, {'label': 'angry', 'score': 0.6524422764778137}, {'label': 'happy', 'score': 0.9977859258651733}, {'label': 'angry', 'score': 0.7777454853057861}, {'label': 'happy', 'score': 0.46465978026390076}, {'label': 'happy', 'score': 0.7873716354370117}, {'label': 'others', 'score': 0.7143071889877319}, {'label': 'angry', 'score': 0.5993528962135315}, {'label': 'angry', 'score': 0.757682740688324}, {'label': 'happy', 'score': 0.9083422422409058}, {'label': 'angry', 'score': 0.7209848761558533}, {'label': 'happy', 'score': 0.6695264577865601}, {'label': 'angry', 'score': 0.38878461718559265}, {'label': 'angry', 'score': 0.46671566367149353}, {'label': 'angry', 'score': 0.9651678800582886}, {'label': 'happy', 'score': 0.8582462668418884}, {'label': 'happy', 'score': 0.7909680604934692}, {'label': 'angry', 'score': 0.8878189325332642}]\n",
      "Counter({'angry': 17, 'happy': 13, 'others': 2})\n"
     ]
    }
   ],
   "source": [
    "data = process(r\"../SER/output/TobyReturns.wav\")\n",
    "print(data[0])\n",
    "print(data[1])\n",
    "print(data[2])\n",
    "print(data[3])\n",
    "print(data[4])"
   ]
  },
  {
   "cell_type": "code",
   "execution_count": null,
   "metadata": {},
   "outputs": [],
   "source": []
  }
 ],
 "metadata": {
  "kernelspec": {
   "display_name": "Python 3",
   "language": "python",
   "name": "python3"
  },
  "language_info": {
   "codemirror_mode": {
    "name": "ipython",
    "version": 3
   },
   "file_extension": ".py",
   "mimetype": "text/x-python",
   "name": "python",
   "nbconvert_exporter": "python",
   "pygments_lexer": "ipython3",
   "version": "3.10.11"
  }
 },
 "nbformat": 4,
 "nbformat_minor": 2
}
