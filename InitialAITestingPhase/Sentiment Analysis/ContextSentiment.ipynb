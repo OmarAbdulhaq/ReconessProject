{
 "cells": [
  {
   "cell_type": "code",
   "execution_count": 1,
   "metadata": {},
   "outputs": [
    {
     "name": "stderr",
     "output_type": "stream",
     "text": [
      "C:\\Users\\dell\\AppData\\Local\\Packages\\PythonSoftwareFoundation.Python.3.10_qbz5n2kfra8p0\\LocalCache\\local-packages\\Python310\\site-packages\\tqdm\\auto.py:21: TqdmWarning: IProgress not found. Please update jupyter and ipywidgets. See https://ipywidgets.readthedocs.io/en/stable/user_install.html\n",
      "  from .autonotebook import tqdm as notebook_tqdm\n"
     ]
    }
   ],
   "source": [
    "import speech_recognition as sr\n",
    "from punctuators.models import PunctCapSegModelONNX"
   ]
  },
  {
   "cell_type": "code",
   "execution_count": 2,
   "metadata": {},
   "outputs": [],
   "source": [
    "r = sr.Recognizer()\n",
    "model_name = \"1-800-BAD-CODE/xlm-roberta_punctuation_fullstop_truecase\"\n",
    "m: PunctCapSegModelONNX = PunctCapSegModelONNX.from_pretrained(model_name)"
   ]
  },
  {
   "cell_type": "code",
   "execution_count": 17,
   "metadata": {},
   "outputs": [],
   "source": [
    "def transcribe_audio(path):\n",
    "    # Initialize the recognizer\n",
    "    r = sr.Recognizer()\n",
    "    \n",
    "    # Load the audio file\n",
    "    with sr.AudioFile(path) as source:\n",
    "        # Listen to the entire file\n",
    "        audio = r.record(source)\n",
    "        \n",
    "        try:\n",
    "            # Attempt to recognize the audio\n",
    "            text = r.recognize_google(audio)\n",
    "            return text\n",
    "        except sr.UnknownValueError:\n",
    "            # Handle the error if the audio wasn't understood\n",
    "            print(\"Google Speech Recognition could not understand the audio\")\n",
    "            return None\n",
    "        except sr.RequestError as e:\n",
    "            # Handle API request errors\n",
    "            print(f\"Could not request results from Google Speech Recognition service; {e}\")\n",
    "            return None"
   ]
  },
  {
   "cell_type": "code",
   "execution_count": 18,
   "metadata": {},
   "outputs": [],
   "source": [
    "data = transcribe_audio(\"../SER/output/TobyReturns.wav\")\n",
    "data = [data]"
   ]
  },
  {
   "cell_type": "code",
   "execution_count": 9,
   "metadata": {},
   "outputs": [],
   "source": [
    "results: list[list[str]] = m.infer(\n",
    "    texts=data, apply_sbd=True,\n",
    ")"
   ]
  },
  {
   "cell_type": "code",
   "execution_count": 19,
   "metadata": {},
   "outputs": [
    {
     "name": "stdout",
     "output_type": "stream",
     "text": [
      "Input: are you swallowing them whole you're eating them so fast are they even touching your tongue why aren't you having any Angela oh I ate so many already when no one's looking yeah right my baby's dieting she wants to fit into a special child-sized wedding gown for a big day it's one of those exist from my pageant I was Atlantic bride when I was 10 probably heard of it is made of my social club please no no no no no no no no no no\n",
      "Outputs:\n"
     ]
    }
   ],
   "source": [
    "sentences = []\n",
    "for data, output_texts in zip(data, results):\n",
    "    print(f\"Input: {data}\")\n",
    "    print(f\"Outputs:\")\n",
    "    for text in output_texts:\n",
    "        sentences.append(text)"
   ]
  },
  {
   "cell_type": "code",
   "execution_count": 20,
   "metadata": {},
   "outputs": [
    {
     "data": {
      "text/plain": [
       "['Are you swallowing them whole?',\n",
       " \"you're eating them so fast?\",\n",
       " 'are they even touching your tongue?',\n",
       " \"Why aren't you having any?\",\n",
       " \"AngElA Oh, I ate so many already, when no one's looking, Yeah right, my baby's dieting.\",\n",
       " 'She wants to fit into a special child-sized wedding gown for a big day.',\n",
       " \"It's one of those exist from my pageant.\",\n",
       " 'I was Atlantic Bride when I was play classical jazz got me go to the next song.']"
      ]
     },
     "execution_count": 20,
     "metadata": {},
     "output_type": "execute_result"
    }
   ],
   "source": [
    "sentences"
   ]
  },
  {
   "cell_type": "code",
   "execution_count": null,
   "metadata": {},
   "outputs": [],
   "source": []
  }
 ],
 "metadata": {
  "kernelspec": {
   "display_name": "Python 3",
   "language": "python",
   "name": "python3"
  },
  "language_info": {
   "codemirror_mode": {
    "name": "ipython",
    "version": 3
   },
   "file_extension": ".py",
   "mimetype": "text/x-python",
   "name": "python",
   "nbconvert_exporter": "python",
   "pygments_lexer": "ipython3",
   "version": "3.10.11"
  }
 },
 "nbformat": 4,
 "nbformat_minor": 2
}
